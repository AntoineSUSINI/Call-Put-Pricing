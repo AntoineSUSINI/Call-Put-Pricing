{
 "cells": [
  {
   "cell_type": "code",
   "execution_count": 4,
   "metadata": {},
   "outputs": [],
   "source": [
    "from math import exp, log, sqrt\n",
    "from scipy.stats import norm\n",
    "import numpy as np"
   ]
  },
  {
   "cell_type": "code",
   "execution_count": 7,
   "metadata": {},
   "outputs": [
    {
     "name": "stdout",
     "output_type": "stream",
     "text": [
      "10.00220211715488\n",
      "9.881291689729842\n",
      "0.551653232551692\n",
      "-0.44834676744830804\n",
      "0.015823747110633887\n",
      "39.559367776584715\n",
      "-7.203077028973805\n",
      "-2.2091225503450564\n"
     ]
    }
   ],
   "source": [
    "S0 = 100\n",
    "K=105\n",
    "r=0.05\n",
    "sigma=0.25\n",
    "\n",
    "\n",
    "def d1 (S0,K,r,sigma,T):\n",
    "    return (log(S0/K)+(r+sigma**2/2)*T)/(sigma*sqrt(T))\n",
    "\n",
    "def d0 (S0,K,r,sigma,T):\n",
    "    return (log(S0/K)+(r-sigma**2/2)*T)/(sigma*sqrt(T))\n",
    "\n",
    "def call_price(S0,K,r,sigma,T):\n",
    "    return S0*norm.cdf(d1(S0,K,r,sigma,T))-K*exp(-r*T)*norm.cdf(d0(S0,K,r,sigma,T))\n",
    "\n",
    "def put_price(S0,K,r,sigma,T):\n",
    "    return -S0*norm.cdf(-d1(S0,K,r,sigma,T)) + K*exp(-r*T)*norm.cdf(-d0(S0,K,r,sigma,T))\n",
    "\n",
    "def delta_call(S0,K,r,sigma,T):\n",
    "    return norm.cdf(d1(S0,K,r,sigma,T))\n",
    "\n",
    "def delta_put(S0,K,r,sigma,T):\n",
    "    return norm.cdf(d1(S0,K,r,sigma,T)) -1 \n",
    "\n",
    "def gamma(S0,K,r,sigma,T):\n",
    "    return norm.pdf(d1(S0,K,r,sigma,T))/(S0*sigma*sqrt(T))\n",
    "\n",
    "def vega(S0,K,r,sigma,T):\n",
    "    return S0*sqrt(T)*norm.pdf(d1(S0,K,r,sigma,T))\n",
    "\n",
    "def theta_call(S0,K,r,sigma,T):\n",
    "    return -S0*norm.pdf(d1(S0,K,r,sigma,T))*sigma/(2*sqrt(T)) - r*K*exp(-r*T)*norm.cdf(d0(S0,K,r,sigma,T))\n",
    "\n",
    "def theta_put(S0,K,r,sigma,T):\n",
    "    return -S0*norm.pdf(d1(S0,K,r,sigma,T))*sigma/(2*sqrt(T)) + r*K*exp(-r*T)*norm.cdf(-d0(S0,K,r,sigma,T))\n",
    "\n",
    "print(call_price(S0,K,r,sigma,1))\n",
    "print(put_price(S0,K,r,sigma,1))\n",
    "print(delta_call(S0,K,r,sigma,1))\n",
    "print(delta_put(S0,K,r,sigma,1))\n",
    "print(gamma(S0,K,r,sigma,1))\n",
    "print(vega(S0,K,r,sigma,1))\n",
    "print(theta_call(S0,K,r,sigma,1))\n",
    "print(theta_put(S0,K,r,sigma,1))\n"
   ]
  }
 ],
 "metadata": {
  "kernelspec": {
   "display_name": "tf",
   "language": "python",
   "name": "python3"
  },
  "language_info": {
   "codemirror_mode": {
    "name": "ipython",
    "version": 3
   },
   "file_extension": ".py",
   "mimetype": "text/x-python",
   "name": "python",
   "nbconvert_exporter": "python",
   "pygments_lexer": "ipython3",
   "version": "3.11.11"
  }
 },
 "nbformat": 4,
 "nbformat_minor": 2
}
