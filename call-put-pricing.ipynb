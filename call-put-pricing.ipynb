def plot_greeks(sigma):
    S_range = np.linspace(50, 150, 400)
    
    # Create subplots
    fig, (ax1, ax2, ax3) = plt.subplots(1, 3, figsize=(18, 5))
    
    # Gamma plot
    gamma_values = [gamma(S, K, r, sigma, T) for S in S_range]
    ax1.plot(S_range, gamma_values, 'b-', label=f'Gamma (σ = {sigma:.2f})')
    ax1.set_title('Gamma')
    ax1.set_xlabel('Prix du sous-jacent (S)')
    ax1.grid(True)
    ax1.legend()
    
    # Vega plot
    vega_values = [vega(S, K, r, sigma, T) for S in S_range]
    ax2.plot(S_range, vega_values, 'g-', label=f'Vega (σ = {sigma:.2f})')
    ax2.set_title('Vega')
    ax2.set_xlabel('Prix du sous-jacent (S)')
    ax2.grid(True)
    ax2.legend()
    
    # Theta plot
    theta_values = [theta_call(S, K, r, sigma, T) for S in S_range]
    ax3.plot(S_range, theta_values, 'r-', label=f'Theta (σ = {sigma:.2f})')
    ax3.set_title('Theta')
    ax3.set_xlabel('Prix du sous-jacent (S)')
    ax3.grid(True)
    ax3.legend()
    
    plt.tight_layout()

# Create the slider
sigma_slider = widgets.FloatSlider(
    value=0.25,
    min=0.1,
    max=1.0,
    step=0.05,
    description='Sigma:',
    continuous_update=False
)

# Create and display the interactive widget
interactive_plot = widgets.interactive(plot_greeks, sigma=sigma_slider)
display(interactive_plot)