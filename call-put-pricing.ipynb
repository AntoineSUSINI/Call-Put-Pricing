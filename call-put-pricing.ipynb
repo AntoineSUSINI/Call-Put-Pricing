{
 "cells": [
  {
   "cell_type": "code",
   "execution_count": 1,
   "metadata": {},
   "outputs": [],
   "source": [
    "from math import exp, log, sqrt\n",
    "from scipy.stats import norm\n",
    "import numpy as np\n",
    "import matplotlib.pyplot as plt\n",
    "import ipywidgets as widgets\n",
    "from IPython.display import display\n"
   ]
  },
  {
   "cell_type": "code",
   "execution_count": 2,
   "metadata": {},
   "outputs": [
    {
     "name": "stdout",
     "output_type": "stream",
     "text": [
      "10.00220211715488\n",
      "9.881291689729842\n",
      "0.551653232551692\n",
      "-0.44834676744830804\n",
      "0.015823747110633887\n",
      "39.559367776584715\n",
      "-7.203077028973805\n",
      "-2.2091225503450564\n"
     ]
    }
   ],
   "source": [
    "S0 = 100\n",
    "K=105\n",
    "r=0.05\n",
    "sigma=0.25\n",
    "T=1\n",
    "\n",
    "\n",
    "def d1 (S0,K,r,sigma,T):\n",
    "    return (log(S0/K)+(r+sigma**2/2)*T)/(sigma*sqrt(T))\n",
    "\n",
    "def d0 (S0,K,r,sigma,T):\n",
    "    return (log(S0/K)+(r-sigma**2/2)*T)/(sigma*sqrt(T))\n",
    "\n",
    "def call_price(S0,K,r,sigma,T):\n",
    "    return S0*norm.cdf(d1(S0,K,r,sigma,T))-K*exp(-r*T)*norm.cdf(d0(S0,K,r,sigma,T))\n",
    "\n",
    "def put_price(S0,K,r,sigma,T):\n",
    "    return -S0*norm.cdf(-d1(S0,K,r,sigma,T)) + K*exp(-r*T)*norm.cdf(-d0(S0,K,r,sigma,T))\n",
    "\n",
    "def delta_call(S0,K,r,sigma,T):\n",
    "    return norm.cdf(d1(S0,K,r,sigma,T))\n",
    "\n",
    "def delta_put(S0,K,r,sigma,T):\n",
    "    return norm.cdf(d1(S0,K,r,sigma,T)) -1 \n",
    "\n",
    "def gamma(S0,K,r,sigma,T):\n",
    "    return norm.pdf(d1(S0,K,r,sigma,T))/(S0*sigma*sqrt(T))\n",
    "\n",
    "def vega(S0,K,r,sigma,T):\n",
    "    return S0*sqrt(T)*norm.pdf(d1(S0,K,r,sigma,T))\n",
    "\n",
    "def theta_call(S0,K,r,sigma,T):\n",
    "    return -S0*norm.pdf(d1(S0,K,r,sigma,T))*sigma/(2*sqrt(T)) - r*K*exp(-r*T)*norm.cdf(d0(S0,K,r,sigma,T))\n",
    "\n",
    "def theta_put(S0,K,r,sigma,T):\n",
    "    return -S0*norm.pdf(d1(S0,K,r,sigma,T))*sigma/(2*sqrt(T)) + r*K*exp(-r*T)*norm.cdf(-d0(S0,K,r,sigma,T))\n",
    "\n",
    "print(call_price(S0,K,r,sigma,1))\n",
    "print(put_price(S0,K,r,sigma,1))\n",
    "print(delta_call(S0,K,r,sigma,1))\n",
    "print(delta_put(S0,K,r,sigma,1))\n",
    "print(gamma(S0,K,r,sigma,1))\n",
    "print(vega(S0,K,r,sigma,1))\n",
    "print(theta_call(S0,K,r,sigma,1))\n",
    "print(theta_put(S0,K,r,sigma,1))\n"
   ]
  },
  {
   "cell_type": "code",
   "execution_count": 9,
   "metadata": {},
   "outputs": [
    {
     "data": {
      "application/vnd.jupyter.widget-view+json": {
       "model_id": "e9f114bcea6d49799a0c9d48565afd2b",
       "version_major": 2,
       "version_minor": 0
      },
      "text/plain": [
       "interactive(children=(FloatSlider(value=0.25, continuous_update=False, description='Sigma:', max=1.0, min=0.05…"
      ]
     },
     "metadata": {},
     "output_type": "display_data"
    }
   ],
   "source": [
    "def plot_delta(sigma):\n",
    "    plt.clf()  # Clear the current figure\n",
    "    S_range = np.linspace(50, 150, 400)\n",
    "    delta_values = [delta_call(S, K, r, sigma, T) for S in S_range]\n",
    "    \n",
    "    plt.plot(S_range, delta_values, label=f'Delta Call (σ = {sigma:.2f})')\n",
    "    plt.xlabel(\"Prix du sous-jacent (S)\")\n",
    "    plt.ylabel(\"Delta\")\n",
    "    plt.title(\"Courbe de Delta pour un call (T = 1 an)\")\n",
    "    plt.legend()\n",
    "    plt.grid(True)\n",
    "\n",
    "# Create the slider\n",
    "sigma_slider = widgets.FloatSlider(\n",
    "    value=0.25,\n",
    "    min=0.05,\n",
    "    max=1.0,\n",
    "    step=0.05,\n",
    "    description='Sigma:',\n",
    "    continuous_update=False\n",
    ")\n",
    "\n",
    "# Create and display the interactive widget\n",
    "interactive_plot = widgets.interactive(plot_delta, sigma=sigma_slider)\n",
    "display(interactive_plot)"
   ]
  },
  {
   "cell_type": "code",
   "execution_count": 10,
   "metadata": {},
   "outputs": [
    {
     "data": {
      "application/vnd.jupyter.widget-view+json": {
       "model_id": "7670b893c37245489f54ba444bf2792d",
       "version_major": 2,
       "version_minor": 0
      },
      "text/plain": [
       "interactive(children=(FloatSlider(value=0.25, continuous_update=False, description='Sigma:', max=1.0, min=0.1,…"
      ]
     },
     "metadata": {},
     "output_type": "display_data"
    }
   ],
   "source": [
    "def plot_greeks(sigma):\n",
    "    S_range = np.linspace(50, 150, 400)\n",
    "    \n",
    "    # Create subplots\n",
    "    fig, (ax1, ax2, ax3) = plt.subplots(1, 3, figsize=(18, 5))\n",
    "    \n",
    "    # Gamma plot\n",
    "    gamma_values = [gamma(S, K, r, sigma, T) for S in S_range]\n",
    "    ax1.plot(S_range, gamma_values, 'b-', label=f'Gamma (σ = {sigma:.2f})')\n",
    "    ax1.set_title('Gamma')\n",
    "    ax1.set_xlabel('Prix du sous-jacent (S)')\n",
    "    ax1.grid(True)\n",
    "    ax1.legend()\n",
    "    \n",
    "    # Vega plot\n",
    "    vega_values = [vega(S, K, r, sigma, T) for S in S_range]\n",
    "    ax2.plot(S_range, vega_values, 'g-', label=f'Vega (σ = {sigma:.2f})')\n",
    "    ax2.set_title('Vega')\n",
    "    ax2.set_xlabel('Prix du sous-jacent (S)')\n",
    "    ax2.grid(True)\n",
    "    ax2.legend()\n",
    "    \n",
    "    # Theta plot\n",
    "    theta_values = [theta_call(S, K, r, sigma, T) for S in S_range]\n",
    "    ax3.plot(S_range, theta_values, 'r-', label=f'Theta (σ = {sigma:.2f})')\n",
    "    ax3.set_title('Theta')\n",
    "    ax3.set_xlabel('Prix du sous-jacent (S)')\n",
    "    ax3.grid(True)\n",
    "    ax3.legend()\n",
    "    \n",
    "    plt.tight_layout()\n",
    "\n",
    "# Create the slider\n",
    "sigma_slider = widgets.FloatSlider(\n",
    "    value=0.25,\n",
    "    min=0.1,\n",
    "    max=1.0,\n",
    "    step=0.05,\n",
    "    description='Sigma:',\n",
    "    continuous_update=False\n",
    ")\n",
    "\n",
    "# Create and display the interactive widget\n",
    "interactive_plot = widgets.interactive(plot_greeks, sigma=sigma_slider)\n",
    "display(interactive_plot)"
   ]
  }
 ],
 "metadata": {
  "kernelspec": {
   "display_name": "tf",
   "language": "python",
   "name": "python3"
  },
  "language_info": {
   "codemirror_mode": {
    "name": "ipython",
    "version": 3
   },
   "file_extension": ".py",
   "mimetype": "text/x-python",
   "name": "python",
   "nbconvert_exporter": "python",
   "pygments_lexer": "ipython3",
   "version": "3.11.11"
  }
 },
 "nbformat": 4,
 "nbformat_minor": 2
}
